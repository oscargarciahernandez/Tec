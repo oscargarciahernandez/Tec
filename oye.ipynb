{
 "cells": [
  {
   "cell_type": "markdown",
   "metadata": {},
   "source": [
    "# JupyterNotebook de la App para Electrobuzz\n",
    "\n",
    "## Intro\n",
    "\n",
    "En este cuaderno se pretende ir añadiendo todos los avances relativos al proyecto del desarrollo de la App para la descarga de música mediante Electrobuzz-Cosmobox. Cabe mencionar que este proyecto no está pensado para realizar un web-scrapping ilícito. Lo que se pretende mediante este programa es agilizar el proceso de descarga de música de Electrobuzz, pero teniendo en cuenta que es necesario contar con una cuenta de Cosmobox para ello. \n",
    "\n",
    "## Fundamentos\n",
    "\n",
    "En principio esta app se basará en realizar peticiones mediante el paquete requests. Se ha planteado realizar el trabajo inicial en 3 rondas de peticiones. \n",
    "\n",
    "En primera instancia todos las urls de todos los albumes disponibles en Electrobuzz. \n",
    "Una vez se consiga tener un listado de todos los links se pretende realizar una seguna ronda de requests que se encarge de completar la información de cada album, asi como Artista, Remixers, tamaño de la descarga y SOBRE TODO comprobar que exista el link de descarga de Cosmobox (existen albumes que no estan disponibles para descargar en Cosmobox y por lo tanto no son accesibles para nosotros). \n",
    "En la tercera ronda de requests se pretende comprobar que el link de Cosmobox no está caído (Hay  bastantes links que no funcionan).\n",
    "\n",
    "Con toda esta informacion se pasará a crear una interfaz empleando el paquete tkinter, la cual debe contar con un motor de busqueda dentro de toda la información de electrobuzz que nos permita rápidamente seleccionar los albumes que se quieren descargar. Sería interensante que dentro de este motor de busqueda se pudiera filtrar por nombre, sello, fecha, etc, para agilizar la labor de buscar la mñusica que nos apetezca. \n",
    "\n",
    "Dentro de la interfaz de tkinter habrá un botón para actualizar la información contenida en el software, como un método para tener al día todos los realeases de la página... Aunque tambien se podría realizar una actualización de manera automática. \n",
    "\n",
    "Debe ser sencillo selecionar la música que queremos descargar, igual añadimos un click marker y un botón de descarga al final de la página. Ya veré. Este paso no se si se realizará con requests (espero que si) o con Selenium... ambos tienen sus ventajas y desventajas. "
   ]
  },
  {
   "cell_type": "code",
   "execution_count": null,
   "metadata": {},
   "outputs": [],
   "source": []
  },
  {
   "cell_type": "code",
   "execution_count": null,
   "metadata": {},
   "outputs": [],
   "source": []
  },
  {
   "cell_type": "code",
   "execution_count": null,
   "metadata": {},
   "outputs": [],
   "source": []
  }
 ],
 "metadata": {
  "kernelspec": {
   "display_name": "Python 2",
   "language": "python",
   "name": "python2"
  },
  "language_info": {
   "codemirror_mode": {
    "name": "ipython",
    "version": 2
   },
   "file_extension": ".py",
   "mimetype": "text/x-python",
   "name": "python",
   "nbconvert_exporter": "python",
   "pygments_lexer": "ipython2",
   "version": "2.7.15"
  }
 },
 "nbformat": 4,
 "nbformat_minor": 2
}
